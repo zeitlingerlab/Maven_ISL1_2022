{
 "cells": [
  {
   "cell_type": "markdown",
   "metadata": {},
   "source": [
    "# Introduction\n",
    "\n",
    "The purpose of this .ipynb is to generate combinatorial perturbations of motifs based on `CM_vs_MN_merged_bias` model from curated motifs. We will generate perturbations across nucleosome (200bp), and enhancer (500bp) range. \n",
    "\n",
    "## Note about perturbation limitations\n",
    "\n",
    "For this initial pass-through, we will only consider combinations of 3 mutations or less. This will allow us to keep perturbations within a manageable range. Greater depth of mutations will be considered in the future at a more focused level.\n",
    "\n",
    "# Computational setup"
   ]
  },
  {
   "cell_type": "code",
   "execution_count": 1,
   "metadata": {},
   "outputs": [
    {
     "name": "stderr",
     "output_type": "stream",
     "text": [
      "Using TensorFlow backend.\n",
      "2022-01-07 11:16:50,654 [WARNING] git-lfs not installed\n"
     ]
    }
   ],
   "source": [
    "import warnings\n",
    "warnings.filterwarnings(\"ignore\")\n",
    "from tensorflow.python.util import deprecation\n",
    "deprecation._PRINT_DEPRECATION_WARNINGS = False\n",
    "\n",
    "#Packages\n",
    "import os\n",
    "import sys\n",
    "import itertools\n",
    "import pandas as pd\n",
    "import numpy as np\n",
    "from pybedtools import BedTool\n",
    "from bpnet.cli.contrib import bpnet_contrib\n",
    "from bpnet.cli.modisco import cwm_scan\n",
    "\n",
    "#Setup\n",
    "os.chdir('/n/projects/mw2098/publications/2022_maven_ISL1/')\n",
    "pd.set_option('display.max_columns', 100)\n",
    "%matplotlib inline\n",
    "\n",
    "# function to return key for any value \n",
    "def get_key(val, my_dict): \n",
    "    for key, value in my_dict.items(): \n",
    "        if val == value: \n",
    "            return key \n",
    "    return \"key doesn't exist\""
   ]
  },
  {
   "cell_type": "code",
   "execution_count": 2,
   "metadata": {},
   "outputs": [],
   "source": [
    "#Pre-existing variables\n",
    "fasta_file = f'/n/projects/mw2098/genomes/hg19/hg19.fa'\n",
    "model_prefix = 'seq_width1000-lr0.001-lambda100-n_dil_layers9-conv_kernel_size7-tconv_kernel_size7-filters64'\n",
    "\n",
    "tasks = ['I_WT_D6CM','I_WT_S3MN']\n",
    "\n",
    "# Determined variables\n",
    "model_dir = f'models/{model_prefix}'\n",
    "modisco_dir = f'modisco/{model_prefix}'\n",
    "curated_motifs = f'analysis/bed/mapped_motifs/all_instances_curated_0based.bed'\n",
    "curated_regions = f'analysis/bed/mapped_motifs/all_grouped_regions_0based.bed'\n",
    "\n",
    "# Dependent variables\n",
    "perturb_output_dir = f'analysis/tsv/perturbs/'"
   ]
  },
  {
   "cell_type": "code",
   "execution_count": 3,
   "metadata": {},
   "outputs": [],
   "source": [
    "!mkdir -p {perturb_output_dir}\n",
    "!mkdir -p figures/5_collect_genomic_perturbations"
   ]
  },
  {
   "cell_type": "markdown",
   "metadata": {},
   "source": [
    "# Collect mapped motifs together\n",
    "\n",
    "Here, we need to import the motifs that were curated during `3_` and add the correct columns such that the `bpnet_generate_perturbations` script can be satisfied. To do this, we need a 0-based coordinate .tsv file with the following columns: `pattern_name`, `example_idx`, `example_chrom`, `pattern_start`, `pattern_end`, `pattern_len`"
   ]
  },
  {
   "cell_type": "code",
   "execution_count": 4,
   "metadata": {},
   "outputs": [
    {
     "name": "stderr",
     "output_type": "stream",
     "text": [
      "2022-01-07 11:16:54,719 [INFO] Note: detected 80 virtual cores but NumExpr set to maximum of 64, check \"NUMEXPR_MAX_THREADS\" environment variable.\n",
      "2022-01-07 11:16:54,721 [INFO] Note: NumExpr detected 80 cores but \"NUMEXPR_MAX_THREADS\" not set, so enforcing safe limit of 8.\n",
      "2022-01-07 11:16:54,722 [INFO] NumExpr defaulting to 8 threads.\n"
     ]
    },
    {
     "data": {
      "text/plain": [
       "(53353, 11)"
      ]
     },
     "execution_count": 4,
     "metadata": {},
     "output_type": "execute_result"
    }
   ],
   "source": [
    "#Import set of motifs\n",
    "motifs_df = BedTool(curated_motifs).to_dataframe()\n",
    "motifs_df.columns = ['example_chrom','start','end','name','score','strand']\n",
    "\n",
    "#Separate motif name\n",
    "motifs_df['pattern_len'] = motifs_df['end'] - motifs_df['start']\n",
    "motifs_df['pattern_name'] = [n.split('_')[0] for n in motifs_df.name]\n",
    "motifs_df['motif_id'] = [n.split('_')[1] for n in motifs_df.name]\n",
    "motifs_df['example_idx'] = [n.split('_')[2] for n in motifs_df.name]\n",
    "motifs_df['region_id'] = [n.split('_')[2] for n in motifs_df.name]\n",
    "motifs_df.shape"
   ]
  },
  {
   "cell_type": "markdown",
   "metadata": {},
   "source": [
    "Match grouped regions to motifs and collect motif position within the windows to obtain `pattern_start` and `pattern_end`. We do this now because it is far easier to work with 0-based coordinated in python than in R."
   ]
  },
  {
   "cell_type": "code",
   "execution_count": 5,
   "metadata": {},
   "outputs": [],
   "source": [
    "regions_df = BedTool(curated_regions).to_dataframe()\n",
    "regions_df.columns = ['region_chrom','region_start','region_end','region_id','region_score','region_strand']\n",
    "regions_df['region_id']=regions_df['region_id'].astype(str)"
   ]
  },
  {
   "cell_type": "code",
   "execution_count": 6,
   "metadata": {},
   "outputs": [],
   "source": [
    "motifs_df = motifs_df.merge(regions_df[['region_start','region_end','region_id']], on = 'region_id', how = 'left')\n",
    "motifs_df['pattern_start'] = motifs_df['start']-motifs_df['region_start']\n",
    "motifs_df['pattern_end'] = motifs_df['end']-motifs_df['region_start']\n",
    "motifs_df = motifs_df[motifs_df['example_chrom']!='chrY']"
   ]
  },
  {
   "cell_type": "code",
   "execution_count": 7,
   "metadata": {},
   "outputs": [
    {
     "name": "stdout",
     "output_type": "stream",
     "text": [
      "LHX-ISL1-28    16748\n",
      "Onecut2         6699\n",
      "GATA            5173\n",
      "LHX             4826\n",
      "NKX2.5          4510\n",
      "NeuroD          4010\n",
      "ISL1            2911\n",
      "EBF1            2338\n",
      "LHX-ISL1-9      2193\n",
      "LHX-ISL1-10     2073\n",
      "NKX2.5-alt      1827\n",
      "Name: pattern_name, dtype: int64\n",
      "3     3104\n",
      "2     2906\n",
      "4     2631\n",
      "1     2445\n",
      "5     1972\n",
      "6     1089\n",
      "7      609\n",
      "8      271\n",
      "9      135\n",
      "10      69\n",
      "11      24\n",
      "12       8\n",
      "13       4\n",
      "14       3\n",
      "15       1\n",
      "16       1\n",
      "Name: region_id, dtype: int64\n"
     ]
    }
   ],
   "source": [
    "#Save motifs\n",
    "motifs_df.to_csv(f'{perturb_output_dir}/all_instances_curated_formatted_0based.tsv.gz', sep = '\\t', index = False)\n",
    "print(motifs_df.pattern_name.value_counts())\n",
    "print(motifs_df.region_id.value_counts().value_counts())"
   ]
  },
  {
   "cell_type": "code",
   "execution_count": 8,
   "metadata": {},
   "outputs": [
    {
     "data": {
      "text/html": [
       "<div>\n",
       "<style scoped>\n",
       "    .dataframe tbody tr th:only-of-type {\n",
       "        vertical-align: middle;\n",
       "    }\n",
       "\n",
       "    .dataframe tbody tr th {\n",
       "        vertical-align: top;\n",
       "    }\n",
       "\n",
       "    .dataframe thead th {\n",
       "        text-align: right;\n",
       "    }\n",
       "</style>\n",
       "<table border=\"1\" class=\"dataframe\">\n",
       "  <thead>\n",
       "    <tr style=\"text-align: right;\">\n",
       "      <th></th>\n",
       "      <th>example_chrom</th>\n",
       "      <th>start</th>\n",
       "      <th>end</th>\n",
       "      <th>name</th>\n",
       "      <th>score</th>\n",
       "      <th>strand</th>\n",
       "      <th>pattern_len</th>\n",
       "      <th>pattern_name</th>\n",
       "      <th>motif_id</th>\n",
       "      <th>example_idx</th>\n",
       "      <th>region_id</th>\n",
       "      <th>region_start</th>\n",
       "      <th>region_end</th>\n",
       "      <th>pattern_start</th>\n",
       "      <th>pattern_end</th>\n",
       "    </tr>\n",
       "  </thead>\n",
       "  <tbody>\n",
       "    <tr>\n",
       "      <th>0</th>\n",
       "      <td>chr1</td>\n",
       "      <td>100629813</td>\n",
       "      <td>100629851</td>\n",
       "      <td>LHX-ISL1-28_1_558</td>\n",
       "      <td>0</td>\n",
       "      <td>-</td>\n",
       "      <td>38</td>\n",
       "      <td>LHX-ISL1-28</td>\n",
       "      <td>1</td>\n",
       "      <td>558</td>\n",
       "      <td>558</td>\n",
       "      <td>100629332</td>\n",
       "      <td>100630332</td>\n",
       "      <td>481</td>\n",
       "      <td>519</td>\n",
       "    </tr>\n",
       "    <tr>\n",
       "      <th>1</th>\n",
       "      <td>chr1</td>\n",
       "      <td>100643263</td>\n",
       "      <td>100643280</td>\n",
       "      <td>LHX-ISL1-10_2_559</td>\n",
       "      <td>0</td>\n",
       "      <td>-</td>\n",
       "      <td>17</td>\n",
       "      <td>LHX-ISL1-10</td>\n",
       "      <td>2</td>\n",
       "      <td>559</td>\n",
       "      <td>559</td>\n",
       "      <td>100642844</td>\n",
       "      <td>100643844</td>\n",
       "      <td>419</td>\n",
       "      <td>436</td>\n",
       "    </tr>\n",
       "    <tr>\n",
       "      <th>2</th>\n",
       "      <td>chr1</td>\n",
       "      <td>100643287</td>\n",
       "      <td>100643325</td>\n",
       "      <td>LHX-ISL1-28_3_559</td>\n",
       "      <td>0</td>\n",
       "      <td>-</td>\n",
       "      <td>38</td>\n",
       "      <td>LHX-ISL1-28</td>\n",
       "      <td>3</td>\n",
       "      <td>559</td>\n",
       "      <td>559</td>\n",
       "      <td>100642844</td>\n",
       "      <td>100643844</td>\n",
       "      <td>443</td>\n",
       "      <td>481</td>\n",
       "    </tr>\n",
       "    <tr>\n",
       "      <th>3</th>\n",
       "      <td>chr1</td>\n",
       "      <td>100643336</td>\n",
       "      <td>100643346</td>\n",
       "      <td>EBF1_4_559</td>\n",
       "      <td>0</td>\n",
       "      <td>+</td>\n",
       "      <td>10</td>\n",
       "      <td>EBF1</td>\n",
       "      <td>4</td>\n",
       "      <td>559</td>\n",
       "      <td>559</td>\n",
       "      <td>100642844</td>\n",
       "      <td>100643844</td>\n",
       "      <td>492</td>\n",
       "      <td>502</td>\n",
       "    </tr>\n",
       "    <tr>\n",
       "      <th>4</th>\n",
       "      <td>chr1</td>\n",
       "      <td>100643398</td>\n",
       "      <td>100643436</td>\n",
       "      <td>LHX-ISL1-28_5_559</td>\n",
       "      <td>0</td>\n",
       "      <td>-</td>\n",
       "      <td>38</td>\n",
       "      <td>LHX-ISL1-28</td>\n",
       "      <td>5</td>\n",
       "      <td>559</td>\n",
       "      <td>559</td>\n",
       "      <td>100642844</td>\n",
       "      <td>100643844</td>\n",
       "      <td>554</td>\n",
       "      <td>592</td>\n",
       "    </tr>\n",
       "  </tbody>\n",
       "</table>\n",
       "</div>"
      ],
      "text/plain": [
       "  example_chrom      start        end               name  score strand  \\\n",
       "0          chr1  100629813  100629851  LHX-ISL1-28_1_558      0      -   \n",
       "1          chr1  100643263  100643280  LHX-ISL1-10_2_559      0      -   \n",
       "2          chr1  100643287  100643325  LHX-ISL1-28_3_559      0      -   \n",
       "3          chr1  100643336  100643346         EBF1_4_559      0      +   \n",
       "4          chr1  100643398  100643436  LHX-ISL1-28_5_559      0      -   \n",
       "\n",
       "   pattern_len pattern_name motif_id example_idx region_id  region_start  \\\n",
       "0           38  LHX-ISL1-28        1         558       558     100629332   \n",
       "1           17  LHX-ISL1-10        2         559       559     100642844   \n",
       "2           38  LHX-ISL1-28        3         559       559     100642844   \n",
       "3           10         EBF1        4         559       559     100642844   \n",
       "4           38  LHX-ISL1-28        5         559       559     100642844   \n",
       "\n",
       "   region_end  pattern_start  pattern_end  \n",
       "0   100630332            481          519  \n",
       "1   100643844            419          436  \n",
       "2   100643844            443          481  \n",
       "3   100643844            492          502  \n",
       "4   100643844            554          592  "
      ]
     },
     "execution_count": 8,
     "metadata": {},
     "output_type": "execute_result"
    }
   ],
   "source": [
    "motifs_df.head(n=5)"
   ]
  },
  {
   "cell_type": "markdown",
   "metadata": {},
   "source": [
    "# Generate contributions to match the curated coordinates\n",
    "\n",
    "Because the `example_idx` files were changing, we wanted to generate contributions to match these modified coordinates. Otherwise, `ContribFile(original_contrib.h5).get_seq()` will return the incorrect sequence."
   ]
  },
  {
   "cell_type": "code",
   "execution_count": 9,
   "metadata": {},
   "outputs": [
    {
     "name": "stdout",
     "output_type": "stream",
     "text": [
      "bpnet contrib --method deeplift --memfrac-gpu .4 --regions analysis/bed/mapped_motifs/all_grouped_regions_0based.bed models/seq_width1000-lr0.001-lambda100-n_dil_layers9-conv_kernel_size7-tconv_kernel_size7-filters64 preds/seq_width1000-lr0.001-lambda100-n_dil_layers9-conv_kernel_size7-tconv_kernel_size7-filters64/all_grouped_regions_0based_contrib.h5\n"
     ]
    }
   ],
   "source": [
    "print(f'bpnet contrib --method deeplift --memfrac-gpu .4 --regions {curated_regions} \\\n",
    "{model_dir} preds/{model_prefix}/all_grouped_regions_0based_contrib.h5')"
   ]
  },
  {
   "cell_type": "code",
   "execution_count": 10,
   "metadata": {},
   "outputs": [],
   "source": [
    "contrib_file = f'preds/{model_prefix}/all_grouped_regions_0based_contrib.h5'"
   ]
  },
  {
   "cell_type": "markdown",
   "metadata": {},
   "source": [
    "# Generate perturbations\n",
    "\n",
    "`scripts/bpnet_generate_seq_perturbations.py` contains the scripts required to generate the sum and maximum values across each (1) task, (2) annotated motif, (3) mutant combination. Pseudocounts of the entire window for each (1) task and (2) mutant combination are also included for further analysis.\n",
    "\n",
    "For reduced time in generating predictions, you can enable a GPU"
   ]
  },
  {
   "cell_type": "markdown",
   "metadata": {},
   "source": [
    "## Generate windowed perturbations\n",
    "\n",
    "This lets us look at the maximum profile height effects across certain windows. This analysis is intended for usage on TFs that bind normally and are localized across motifs. It is code that is meant to recreate the BPNet paper's Figure 5. "
   ]
  },
  {
   "cell_type": "markdown",
   "metadata": {},
   "source": [
    "### Generate across enhancer range"
   ]
  },
  {
   "cell_type": "code",
   "execution_count": 11,
   "metadata": {},
   "outputs": [
    {
     "name": "stdout",
     "output_type": "stream",
     "text": [
      "python scripts/bpnet_generate_seq_perturbations.py -d analysis/tsv/perturbs//all_instances_curated_formatted_0based.tsv.gz -m models/seq_width1000-lr0.001-lambda100-n_dil_layers9-conv_kernel_size7-tconv_kernel_size7-filters64 -c preds/seq_width1000-lr0.001-lambda100-n_dil_layers9-conv_kernel_size7-tconv_kernel_size7-filters64/all_grouped_regions_0based_contrib.h5 -o analysis/tsv/perturbs//perturbs_500bp --comb_max 3 -t 64 -n 32 -w 500 -g 0 -x .4\n"
     ]
    }
   ],
   "source": [
    "#%%script false --no-raise-error\n",
    "! echo python scripts/bpnet_generate_seq_perturbations.py \\\n",
    "-d {perturb_output_dir}/all_instances_curated_formatted_0based.tsv.gz \\\n",
    "-m {model_dir} -c {contrib_file} -o {perturb_output_dir}/perturbs_500bp --comb_max 3 -t 64 -n 32 -w 500 -g 0 -x .4"
   ]
  },
  {
   "cell_type": "markdown",
   "metadata": {},
   "source": [
    "## Generate across whole window range"
   ]
  },
  {
   "cell_type": "code",
   "execution_count": 12,
   "metadata": {},
   "outputs": [
    {
     "name": "stdout",
     "output_type": "stream",
     "text": [
      "python scripts/bpnet_generate_seq_perturbations.py -d analysis/tsv/perturbs//all_instances_curated_formatted_0based.tsv.gz -m models/seq_width1000-lr0.001-lambda100-n_dil_layers9-conv_kernel_size7-tconv_kernel_size7-filters64 -c preds/seq_width1000-lr0.001-lambda100-n_dil_layers9-conv_kernel_size7-tconv_kernel_size7-filters64/all_grouped_regions_0based_contrib.h5 -o analysis/tsv/perturbs//perturbs_all --comb_max 3 -t 64 -n 32 --use_whole_window -g 0 -x .4\n"
     ]
    }
   ],
   "source": [
    "! echo python scripts/bpnet_generate_seq_perturbations.py \\\n",
    "-d {perturb_output_dir}/all_instances_curated_formatted_0based.tsv.gz \\\n",
    "-m {model_dir} -c {contrib_file} -o {perturb_output_dir}/perturbs_all --comb_max 3 -t 64 -n 32 --use_whole_window -g 0 -x .4"
   ]
  },
  {
   "cell_type": "markdown",
   "metadata": {},
   "source": [
    "From these co-occurence plots we can see that the motifs do not co-occur significantly at their own peak sets when treating the peak set of each cell type as a specific group."
   ]
  }
 ],
 "metadata": {
  "kernelspec": {
   "display_name": "bpnet",
   "language": "python",
   "name": "bpnet"
  },
  "language_info": {
   "codemirror_mode": {
    "name": "ipython",
    "version": 3
   },
   "file_extension": ".py",
   "mimetype": "text/x-python",
   "name": "python",
   "nbconvert_exporter": "python",
   "pygments_lexer": "ipython3",
   "version": "3.6.7"
  }
 },
 "nbformat": 4,
 "nbformat_minor": 4
}
