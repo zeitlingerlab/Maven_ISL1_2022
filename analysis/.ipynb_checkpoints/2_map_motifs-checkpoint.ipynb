{
 "cells": [
  {
   "cell_type": "markdown",
   "metadata": {},
   "source": [
    "# Introduction: CM vs MN BPNet motif mapping\n",
    "\n",
    "The purpose of this notebook is to use the best model found in `1_` in order to map motif instances to the model. The model that was found to perform the best:\n",
    "`seq_width1000-lr0.001-lambda100-n_dil_layers9-conv_kernel_size7-tconv_kernel_size7-filters64`.\n",
    "\n",
    "# Computational Setup"
   ]
  },
  {
   "cell_type": "code",
   "execution_count": 1,
   "metadata": {},
   "outputs": [
    {
     "name": "stderr",
     "output_type": "stream",
     "text": [
      "Using TensorFlow backend.\n",
      "2022-01-07 10:41:06,865 [WARNING] git-lfs not installed\n",
      "2022-01-07 10:41:07,063 [INFO] Note: detected 80 virtual cores but NumExpr set to maximum of 64, check \"NUMEXPR_MAX_THREADS\" environment variable.\n",
      "2022-01-07 10:41:07,066 [INFO] Note: NumExpr detected 80 cores but \"NUMEXPR_MAX_THREADS\" not set, so enforcing safe limit of 8.\n",
      "2022-01-07 10:41:07,067 [INFO] NumExpr defaulting to 8 threads.\n"
     ]
    }
   ],
   "source": [
    "# Configurations\n",
    "import warnings;warnings.filterwarnings(\"ignore\")\n",
    "from tensorflow.python.util import deprecation; deprecation._PRINT_DEPRECATION_WARNINGS = False\n",
    "\n",
    "#Modules\n",
    "import os\n",
    "import sys\n",
    "import numpy as np\n",
    "import pandas as pd\n",
    "from tqdm import tqdm\n",
    "import plotnine\n",
    "from glob import glob\n",
    "from plotnine import *\n",
    "from itertools import product, compress\n",
    "from pybedtools import BedTool\n",
    "from keras import backend as K\n",
    "from bpnet.utils import read_json, create_tf_session\n",
    "from bpnet.dataspecs import DataSpec\n",
    "from bpnet.datasets import StrandedProfile\n",
    "from bpnet.extractors import StrandedBigWigExtractor\n",
    "from bpnet.BPNet import BPNetSeqModel\n",
    "\n",
    "#Setup\n",
    "os.chdir('/n/projects/mw2098/publications/2022_maven_ISL1/')\n",
    "# create_tf_session('0', .4)\n",
    "%matplotlib inline\n",
    "\n",
    "#Variables\n",
    "model_prefix = 'seq_width1000-lr0.001-lambda100-n_dil_layers9-conv_kernel_size7-tconv_kernel_size7-filters64'\n",
    "figure_dir = 'figures/2_map_motifs'\n",
    "\n",
    "#Dependent variables\n",
    "dataspec = DataSpec.load(f'dataspec/dataspec.yml')\n",
    "config = read_json(f'models/{model_prefix}/config.gin.json')\n",
    "modisco_dir = f'modisco/{model_prefix}'\n",
    "tasks = list(dataspec.task_specs.keys())\n",
    "excl_chromosomes = config['bpnet_data.exclude_chr']\n",
    "incl_chromosomes = config['bpnet_data.valid_chr']"
   ]
  },
  {
   "cell_type": "code",
   "execution_count": 2,
   "metadata": {},
   "outputs": [],
   "source": [
    "!mkdir -p {figure_dir}"
   ]
  },
  {
   "cell_type": "markdown",
   "metadata": {},
   "source": [
    "# Generate contributions"
   ]
  },
  {
   "cell_type": "code",
   "execution_count": 3,
   "metadata": {},
   "outputs": [],
   "source": [
    "contrib_cmds = ['#!bin/bash']\n",
    "contrib_cmds.append(f'bpnet contrib --batch-size 16 --method  deeplift --memfrac-gpu .8 models/{model_prefix} preds/{model_prefix}/contrib.h5')\n",
    "contrib_cmds.append(f'bpnet contrib --batch-size 16 --method  deeplift --shuffle-seq --memfrac-gpu .8 models/{model_prefix} preds/{model_prefix}/contrib_null.h5')\n",
    "with open(f'tmp/contrib_cmds.sh', \"w\") as outfile:\n",
    "    outfile.write(\"\\n\".join(contrib_cmds))"
   ]
  },
  {
   "cell_type": "code",
   "execution_count": 4,
   "metadata": {},
   "outputs": [],
   "source": [
    "%%script false --no-raise-error\n",
    "!bash tmp/contrib_cmds.sh"
   ]
  },
  {
   "cell_type": "markdown",
   "metadata": {},
   "source": [
    "# Run TF-MoDISco and map instances"
   ]
  },
  {
   "cell_type": "code",
   "execution_count": 5,
   "metadata": {},
   "outputs": [],
   "source": [
    "modisco_cmds = ['#!bin/bash']\n",
    "for t in tasks:\n",
    "    #Run profile only\n",
    "    modisco_cmds.append(f'bpnet modisco-run --config config/modisco.gin --null-contrib-file preds/{model_prefix}/contrib_null.h5 --contrib-wildcard={t}/profile/wn --only-task-regions preds/{model_prefix}/contrib.h5 modisco/{model_prefix}/{t}_profile')\n",
    "    modisco_cmds.append(f'bpnet chip-nexus-analysis modisco/{model_prefix}/{t}_profile --footprint-width=800')\n",
    "    modisco_cmds.append(f'bpnet cwm-scan --contrib-file preds/{model_prefix}/contrib.h5 modisco/{model_prefix}/{t}_profile modisco/{model_prefix}/{t}_profile/motif-instances-all-regions.tsv.gz')\n",
    "    modisco_cmds.append(f'bpnet cwm-scan modisco/{model_prefix}/{t}_profile modisco/{model_prefix}/{t}_profile/motif-instances-task-regions.tsv.gz')\n",
    "    #Run counts only\n",
    "    modisco_cmds.append(f'bpnet modisco-run --config config/modisco.gin --null-contrib-file preds/{model_prefix}/contrib_null.h5 --contrib-wildcard={t}/counts/pre-act --only-task-regions preds/{model_prefix}/contrib.h5 modisco/{model_prefix}/{t}_counts')\n",
    "    modisco_cmds.append(f'bpnet chip-nexus-analysis modisco/{model_prefix}/{t}_counts --footprint-width=800')\n",
    "    modisco_cmds.append(f'bpnet cwm-scan --contrib-file preds/{model_prefix}/contrib.h5 modisco/{model_prefix}/{t}_counts modisco/{model_prefix}/{t}_counts/motif-instances-all-regions.tsv.gz')\n",
    "    modisco_cmds.append(f'bpnet cwm-scan modisco/{model_prefix}/{t}_counts modisco/{model_prefix}/{t}_counts/motif-instances-task-regions.tsv.gz')\n",
    "\n",
    "with open(f'tmp/modisco_cmds.sh', \"w\") as outfile:\n",
    "    outfile.write(\"\\n\".join(modisco_cmds))"
   ]
  },
  {
   "cell_type": "code",
   "execution_count": 6,
   "metadata": {},
   "outputs": [],
   "source": [
    "%%script false --no-raise-error\n",
    "!bash tmp/modisco_cmds.sh"
   ]
  },
  {
   "cell_type": "markdown",
   "metadata": {},
   "source": [
    "Each task performed exceptionally well, with Snail showing strong repression patterns across the Snail motif and Suppressor of Hairy Wing (Su(Hw)). Every task returned motifs within our expectations.\n",
    "\n",
    "## Summary of motifs of interest\n",
    "\n",
    "Based on the TF-MoDISco model computed above, the following motifs are of interest to us:\n",
    "\n",
    "\n",
    "+ D6CM task\n",
    "    + NKX2.5 (D6CM)\n",
    "        + pattern 0: canonical GCACTTAA\n",
    "        + patterns 4 and 5 also show low affinity version of this.\n",
    "    + GATA (D6CM)\n",
    "        + pattern 1: canonical GATA motif (CTTATCT/GAGAAG)\n",
    "        + pattern 2: identical GATA motif with varying flanks. Will be ignored since CWM-scanning will map both and their relative contributions show identical patterning relative to tasks.\n",
    "    + ISL1 (D6CM)\n",
    "        + pattern 3: ISL1 motif (CTAATGG)\n",
    "        + Will be called ISL1-D6CM because it was found in the D6CM task.\n",
    "+ S3MN task\n",
    "    + LHX (S3MN)\n",
    "        + pattern 0\n",
    "        + AT-rich ISL1-like motif (TAATTNNATT)\n",
    "    + NeuroD (S3MN)\n",
    "        + pattern 1: CAGCTG\n",
    "        + This is detected as AP-4, NeuroD, NHLH1, and HEN1 in MotifMap.\n",
    "    + EBF1 (S3MN)\n",
    "        + pattern 2: canonical EBF1 motif (CCCNNGGGA)\n",
    "    + ISL1-LHX (S3MN)\n",
    "        + pattern 3: 28bp separation\n",
    "        + pattern 6: 9bp separation\n",
    "        + pattern 7: 10bp separation\n",
    "        + Contains 1 high affinity ISL1 and a LHX nearby.\n",
    "    + Onecut2 (S3MN)\n",
    "            + pattern 4: ATTGATT\n",
    "            + Low affinity version as pattern 8.\n",
    "    + NKX2.5-alt (S3MN)\n",
    "        + pattern 5: alternative NKX motif with sequence GCACTTAG. The last 'G' appears to make it more important for S3MN.\n",
    "\n",
    "# Extract .bw files of predictions and contribution\n"
   ]
  },
  {
   "cell_type": "markdown",
   "metadata": {},
   "source": [
    "Next, extract the bigwig tracks. For this script, `deeplift` is the default gradient scoring. "
   ]
  },
  {
   "cell_type": "code",
   "execution_count": 7,
   "metadata": {},
   "outputs": [
    {
     "name": "stdout",
     "output_type": "stream",
     "text": [
      "bpnet export-bw --contrib-method deeplift --memfrac-gpu .8 models/seq_width1000-lr0.001-lambda100-n_dil_layers9-conv_kernel_size7-tconv_kernel_size7-filters64 preds/seq_width1000-lr0.001-lambda100-n_dil_layers9-conv_kernel_size7-tconv_kernel_size7-filters64/bw/\n"
     ]
    }
   ],
   "source": [
    "print(f'bpnet export-bw --contrib-method deeplift --memfrac-gpu .8 models/{model_prefix} preds/{model_prefix}/bw/')"
   ]
  },
  {
   "cell_type": "markdown",
   "metadata": {},
   "source": [
    "The subsequent `.Rmd` will now collect the motifs described above and curate them."
   ]
  },
  {
   "cell_type": "markdown",
   "metadata": {},
   "source": [
    "# Collect TF-MoDISco information\n",
    "\n",
    "For easier plotting and organization collect the following information from each of the TF-MoDISco patterns returned:\n",
    "\n",
    "1. CWM, 70bp untrimmed\n",
    "2. PWM, 70bp untrimmed\n",
    "3. CWM, ic:0.08 trimmed\n",
    "4. PWM, ic:0.08 trimmed\n",
    "\n",
    "These matrices will be saved such that we can apply it towards analysis that isn't dependent on the BPNet software."
   ]
  },
  {
   "cell_type": "code",
   "execution_count": 8,
   "metadata": {},
   "outputs": [],
   "source": [
    "modisco_cmds = ['#!bin/bash']\n",
    "for t in tasks:\n",
    "    modisco_cmds.append(f'python scripts/bpnet_extract_modisco_logos.py --ic_threshold 0.08 --modisco_model_file {modisco_dir}/{t}_counts/modisco.h5 --output_h5 {modisco_dir}/{t}_counts/modisco_logos.h5')\n",
    "with open(f'tmp/modisco_logos.sh', \"w\") as outfile:\n",
    "    outfile.write(\"\\n\".join(modisco_cmds))"
   ]
  },
  {
   "cell_type": "code",
   "execution_count": 9,
   "metadata": {},
   "outputs": [],
   "source": [
    "%%script false --no-raise-error\n",
    "!bash tmp/modisco_logos.sh"
   ]
  },
  {
   "cell_type": "markdown",
   "metadata": {},
   "source": [
    "# Reverse-complement NKX2.5-alt\n",
    "\n",
    "In order to visualize Figure2 better, reverse complement this motif."
   ]
  },
  {
   "cell_type": "code",
   "execution_count": 10,
   "metadata": {},
   "outputs": [
    {
     "name": "stderr",
     "output_type": "stream",
     "text": [
      "TF-MoDISco is using the TensorFlow backend.\n"
     ]
    },
    {
     "name": "stdout",
     "output_type": "stream",
     "text": [
      "Figure(158.4x57.6)\n"
     ]
    },
    {
     "data": {
      "image/png": "[encoded data removed]",
      "text/plain": [
       "<Figure size 158.4x57.6 with 1 Axes>"
      ]
     },
     "metadata": {
      "needs_background": "light"
     },
     "output_type": "display_data"
    }
   ],
   "source": [
    "from bpnet.modisco.files import ModiscoFile\n",
    "mf = ModiscoFile(f\"{modisco_dir}/I_WT_S3MN_profile/modisco.h5\")\n",
    "m0_p5_pattern = mf.get_pattern('metacluster_0/pattern_5').trim_seq_ic(trim_frac=0.08)\n",
    "m0_p5_pattern_ppm = m0_p5_pattern.plot(kind='seq')\n",
    "print(m0_p5_pattern_ppm)\n",
    "m0_p5_pattern_ppm.savefig(f'{figure_dir}/nkxalt_logos.pdf')\n",
    "m0_p5_pattern_ppm.savefig(f'{figure_dir}/nkxalt_logos.png')"
   ]
  },
  {
   "cell_type": "code",
   "execution_count": 11,
   "metadata": {},
   "outputs": [
    {
     "name": "stdout",
     "output_type": "stream",
     "text": [
      "Figure(158.4x57.6)\n"
     ]
    },
    {
     "data": {
      "image/png": "[encoded data removed]",
      "text/plain": [
       "<Figure size 158.4x57.6 with 1 Axes>"
      ]
     },
     "metadata": {
      "needs_background": "light"
     },
     "output_type": "display_data"
    }
   ],
   "source": [
    "m0_p5_pattern_rev = m0_p5_pattern.rc()\n",
    "m0_p5_pattern_rev_ppm = m0_p5_pattern_rev.plot(kind='seq')\n",
    "print(m0_p5_pattern_rev_ppm)\n",
    "m0_p5_pattern_rev_ppm.savefig(f'{figure_dir}/figure2d-nkxalt_logos_revcomp.pdf')\n",
    "m0_p5_pattern_rev_ppm.savefig(f'{figure_dir}/figure2d-nkxalt_logos_revcomp.png')"
   ]
  },
  {
   "cell_type": "code",
   "execution_count": null,
   "metadata": {},
   "outputs": [],
   "source": []
  }
 ],
 "metadata": {
  "kernelspec": {
   "display_name": "bpnet-gpu",
   "language": "python",
   "name": "bpnet-gpu"
  },
  "language_info": {
   "codemirror_mode": {
    "name": "ipython",
    "version": 3
   },
   "file_extension": ".py",
   "mimetype": "text/x-python",
   "name": "python",
   "nbconvert_exporter": "python",
   "pygments_lexer": "ipython3",
   "version": "3.6.13"
  }
 },
 "nbformat": 4,
 "nbformat_minor": 4
}
